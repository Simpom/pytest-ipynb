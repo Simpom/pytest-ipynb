{
 "metadata": {
  "name": "",
  "signature": "sha256:3659a38a8083e6d979fb4fbf47bdace618575be6aadb67b9a8d9a2bce80990fe"
 },
 "nbformat": 3,
 "nbformat_minor": 0,
 "worksheets": [
  {
   "cells": [
    {
     "cell_type": "code",
     "collapsed": false,
     "input": [
      "\"\"\"test\"\"\"\n",
      "import sys\n",
      "import os\n",
      "assert 'test_working_directory.ipynb' in os.listdir('.')"
     ],
     "language": "python",
     "metadata": {},
     "outputs": [],
     "prompt_number": 14
    }
   ],
   "metadata": {}
  }
 ]
}